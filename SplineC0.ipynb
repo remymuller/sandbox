{
 "cells": [
  {
   "cell_type": "code",
   "execution_count": 1,
   "metadata": {
    "collapsed": false
   },
   "outputs": [],
   "source": [
    "from sympy import *\n",
    "\n",
    "t,x0,x1,rho = symbols(\"t x0 x1 rho\")\n",
    "h = symbols(\"h\", positive=True, real=True)\n",
    "R = symbols(\"R\", positive=True, real=True)\n",
    "\n",
    "P0 = 1-t\n",
    "P1 = t\n",
    "P2 = t*(1-t)\n",
    "\n",
    "x = x0 * P0 + x1 * P1 + rho * P2\n",
    "dx = diff(x, t)\n",
    "Q = integrate(- R * x**2, (t, 0, 1)) # in practice R = R * h, R is considered normalized by the step size\n",
    "\n",
    "PowerBalance = Eq( Rational(1,2) * (x1**2 - x0**2), Q)"
   ]
  },
  {
   "cell_type": "code",
   "execution_count": 2,
   "metadata": {
    "collapsed": false
   },
   "outputs": [
    {
     "data": {
      "text/plain": [
       "rho*t*(-t + 1) + t*x1 + x0*(-t + 1)"
      ]
     },
     "execution_count": 2,
     "metadata": {},
     "output_type": "execute_result"
    }
   ],
   "source": [
    "x"
   ]
  },
  {
   "cell_type": "code",
   "execution_count": 3,
   "metadata": {
    "collapsed": false
   },
   "outputs": [
    {
     "data": {
      "text/plain": [
       "-rho*t + rho*(-t + 1) - x0 + x1"
      ]
     },
     "execution_count": 3,
     "metadata": {},
     "output_type": "execute_result"
    }
   ],
   "source": [
    "dx"
   ]
  },
  {
   "cell_type": "code",
   "execution_count": 4,
   "metadata": {
    "collapsed": false
   },
   "outputs": [
    {
     "data": {
      "text/plain": [
       "-R*rho**2/30 - R*rho*x0/6 - R*rho*x1/6 - R*x0**2/3 - R*x0*x1/3 - R*x1**2/3"
      ]
     },
     "execution_count": 4,
     "metadata": {},
     "output_type": "execute_result"
    }
   ],
   "source": [
    "Q"
   ]
  },
  {
   "cell_type": "code",
   "execution_count": 5,
   "metadata": {
    "collapsed": false
   },
   "outputs": [
    {
     "data": {
      "text/plain": [
       "-x0**2/2 + x1**2/2 == -R*rho**2/30 - R*rho*x0/6 - R*rho*x1/6 - R*x0**2/3 - R*x0*x1/3 - R*x1**2/3"
      ]
     },
     "execution_count": 5,
     "metadata": {},
     "output_type": "execute_result"
    }
   ],
   "source": [
    "PowerBalance"
   ]
  },
  {
   "cell_type": "code",
   "execution_count": 6,
   "metadata": {
    "collapsed": true
   },
   "outputs": [],
   "source": [
    "x1_est = x0 * (1-R/2)/(1+R/2)"
   ]
  },
  {
   "cell_type": "code",
   "execution_count": 7,
   "metadata": {
    "collapsed": false
   },
   "outputs": [
    {
     "data": {
      "text/plain": [
       "x0*(-R/2 + 1)/(R/2 + 1)"
      ]
     },
     "execution_count": 7,
     "metadata": {},
     "output_type": "execute_result"
    }
   ],
   "source": [
    "x1_est"
   ]
  },
  {
   "cell_type": "code",
   "execution_count": 8,
   "metadata": {
    "collapsed": false
   },
   "outputs": [],
   "source": [
    "sols = solve(PowerBalance.subs(x1, x1_est), rho)"
   ]
  },
  {
   "cell_type": "code",
   "execution_count": 9,
   "metadata": {
    "collapsed": false
   },
   "outputs": [
    {
     "data": {
      "text/plain": [
       "[(-10*x0 + sqrt(10)*sqrt(x0**2*(-R**2 + 10)))/(R + 2),\n",
       " -(10*x0 + sqrt(10)*sqrt(-x0**2*(R**2 - 10)))/(R + 2)]"
      ]
     },
     "execution_count": 9,
     "metadata": {},
     "output_type": "execute_result"
    }
   ],
   "source": [
    "sols"
   ]
  },
  {
   "cell_type": "code",
   "execution_count": 10,
   "metadata": {
    "collapsed": false
   },
   "outputs": [
    {
     "name": "stderr",
     "output_type": "stream",
     "text": [
      "/Library/Python/2.7/site-packages/matplotlib-1.4.x-py2.7-macosx-10.9-intel.egg/matplotlib/collections.py:571: FutureWarning: elementwise comparison failed; returning scalar instead, but in the future will perform elementwise comparison\n",
      "  if self._edgecolors == str('face'):\n"
     ]
    },
    {
     "data": {
      "text/plain": [
       "<sympy.plotting.plot.Plot at 0x10ab66f10>"
      ]
     },
     "execution_count": 10,
     "metadata": {},
     "output_type": "execute_result"
    }
   ],
   "source": [
    "plot(sols[0].subs(x0, 1), sols[1].subs(x0, 1), (R, 0, 4), title=\"rho1, rho2\")"
   ]
  },
  {
   "cell_type": "code",
   "execution_count": 11,
   "metadata": {
    "collapsed": false
   },
   "outputs": [
    {
     "data": {
      "text/plain": [
       "<sympy.plotting.plot.Plot at 0x10acd1850>"
      ]
     },
     "execution_count": 11,
     "metadata": {},
     "output_type": "execute_result"
    }
   ],
   "source": [
    "plot(-R**2 + 10, (R, 0, 4.1), title=\"determinant\")"
   ]
  },
  {
   "cell_type": "code",
   "execution_count": 12,
   "metadata": {
    "collapsed": false
   },
   "outputs": [],
   "source": [
    "x_solved = x.subs(x1, x1_est).subs(rho, sols[0])\n",
    "dx_solved = dx.subs(x1, x1_est).subs(rho, sols[0])"
   ]
  },
  {
   "cell_type": "code",
   "execution_count": 13,
   "metadata": {
    "collapsed": false
   },
   "outputs": [
    {
     "name": "stdout",
     "output_type": "stream",
     "text": [
      "     ⎛  R    ⎞              ⎛                   _________________⎞            \n",
      "t⋅x₀⋅⎜- ─ + 1⎟              ⎜           ____   ╱   2 ⎛   2     ⎞ ⎟            \n",
      "     ⎝  2    ⎠   t⋅(-t + 1)⋅⎝-10⋅x₀ + ╲╱ 10 ⋅╲╱  x₀ ⋅⎝- R  + 10⎠ ⎠            \n",
      "────────────── + ───────────────────────────────────────────────── + x₀⋅(-t + \n",
      "    R                                  R + 2                                  \n",
      "    ─ + 1                                                                     \n",
      "    2                                                                         \n",
      "\n",
      "  \n",
      "  \n",
      "  \n",
      "1)\n",
      "  \n",
      "  \n",
      "  \n",
      "    ⎛                   _________________⎞      ⎛  R    ⎞                 ⎛   \n",
      "    ⎜           ____   ╱   2 ⎛   2     ⎞ ⎟   x₀⋅⎜- ─ + 1⎟                 ⎜   \n",
      "  t⋅⎝-10⋅x₀ + ╲╱ 10 ⋅╲╱  x₀ ⋅⎝- R  + 10⎠ ⎠      ⎝  2    ⎠        (-t + 1)⋅⎝-10\n",
      "- ──────────────────────────────────────── + ──────────── - x₀ + ─────────────\n",
      "                   R + 2                        R                             \n",
      "                                                ─ + 1                         \n",
      "                                                2                             \n",
      "\n",
      "                _________________⎞\n",
      "        ____   ╱   2 ⎛   2     ⎞ ⎟\n",
      "⋅x₀ + ╲╱ 10 ⋅╲╱  x₀ ⋅⎝- R  + 10⎠ ⎠\n",
      "──────────────────────────────────\n",
      "        R + 2                     \n",
      "                                  \n",
      "                                  \n"
     ]
    }
   ],
   "source": [
    "pprint(x_solved)\n",
    "pprint(dx_solved)"
   ]
  },
  {
   "cell_type": "code",
   "execution_count": 14,
   "metadata": {
    "collapsed": false
   },
   "outputs": [
    {
     "data": {
      "text/plain": [
       "<sympy.plotting.plot.Plot at 0x110e2dd50>"
      ]
     },
     "execution_count": 14,
     "metadata": {},
     "output_type": "execute_result"
    }
   ],
   "source": [
    "xR1 = x_solved.subs(x0,1).subs(R,1)\n",
    "xR2 = x_solved.subs(x0,1).subs(R,2)\n",
    "xR1_2 = x_solved.subs(x0,1).subs(R,0.5)\n",
    "plot(xR1, xR2, xR1_2,(t, 0, 1), title='x(t)', ylim=[0, 1])"
   ]
  },
  {
   "cell_type": "code",
   "execution_count": null,
   "metadata": {
    "collapsed": true
   },
   "outputs": [],
   "source": []
  }
 ],
 "metadata": {
  "kernelspec": {
   "display_name": "Python 2",
   "language": "python",
   "name": "python2"
  },
  "language_info": {
   "codemirror_mode": {
    "name": "ipython",
    "version": 2
   },
   "file_extension": ".py",
   "mimetype": "text/x-python",
   "name": "python",
   "nbconvert_exporter": "python",
   "pygments_lexer": "ipython2",
   "version": "2.7.8"
  }
 },
 "nbformat": 4,
 "nbformat_minor": 0
}
