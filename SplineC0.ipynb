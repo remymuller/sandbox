{
 "cells": [
  {
   "cell_type": "code",
   "execution_count": 1,
   "metadata": {
    "collapsed": false
   },
   "outputs": [],
   "source": [
    "%matplotlib inline \n",
    "from sympy import *\n",
    "init_printing()\n",
    "\n",
    "t,x0,x1,rho = symbols(\"t x0 x1 rho\")\n",
    "h = symbols(\"h\", positive=True, real=True)\n",
    "R = symbols(\"R\", positive=True, real=True)\n",
    "\n",
    "P0 = 1-t\n",
    "P1 = t\n",
    "P2 = t*(1-t)\n",
    "\n",
    "x = x0 * P0 + x1 * P1 + rho * P2\n",
    "dx = diff(x, t)\n",
    "Q = integrate(- R * x**2, (t, 0, 1)) # in practice R = R * h, R is considered normalized by the step size\n",
    "\n",
    "PowerBalance = Eq( Rational(1,2) * (x1**2 - x0**2), Q)"
   ]
  },
  {
   "cell_type": "code",
   "execution_count": 2,
   "metadata": {
    "collapsed": false
   },
   "outputs": [
    {
     "data": {
      "image/png": "[encoded data removed]",
      "text/latex": [
       "$$\\rho t \\left(- t + 1\\right) + t x_{1} + x_{0} \\left(- t + 1\\right)$$"
      ],
      "text/plain": [
       "ρ⋅t⋅(-t + 1) + t⋅x₁ + x₀⋅(-t + 1)"
      ]
     },
     "execution_count": 2,
     "metadata": {},
     "output_type": "execute_result"
    }
   ],
   "source": [
    "x"
   ]
  },
  {
   "cell_type": "code",
   "execution_count": 3,
   "metadata": {
    "collapsed": false
   },
   "outputs": [
    {
     "data": {
      "image/png": "[encoded data removed]",
      "text/latex": [
       "$$- \\rho t + \\rho \\left(- t + 1\\right) - x_{0} + x_{1}$$"
      ],
      "text/plain": [
       "-ρ⋅t + ρ⋅(-t + 1) - x₀ + x₁"
      ]
     },
     "execution_count": 3,
     "metadata": {},
     "output_type": "execute_result"
    }
   ],
   "source": [
    "dx"
   ]
  },
  {
   "cell_type": "code",
   "execution_count": 4,
   "metadata": {
    "collapsed": false
   },
   "outputs": [
    {
     "data": {
      "image/png": "[encoded data removed]",
      "text/latex": [
       "$$- \\frac{R \\rho^{2}}{30} - \\frac{\\rho x_{0}}{6} R - \\frac{\\rho x_{1}}{6} R - \\frac{R x_{0}^{2}}{3} - \\frac{x_{0} x_{1}}{3} R - \\frac{R x_{1}^{2}}{3}$$"
      ],
      "text/plain": [
       "     2                         2                 2\n",
       "  R⋅ρ    R⋅ρ⋅x₀   R⋅ρ⋅x₁   R⋅x₀    R⋅x₀⋅x₁   R⋅x₁ \n",
       "- ──── - ────── - ────── - ───── - ─────── - ─────\n",
       "   30      6        6        3        3        3  "
      ]
     },
     "execution_count": 4,
     "metadata": {},
     "output_type": "execute_result"
    }
   ],
   "source": [
    "Q"
   ]
  },
  {
   "cell_type": "code",
   "execution_count": 5,
   "metadata": {
    "collapsed": false
   },
   "outputs": [
    {
     "data": {
      "image/png": "[encoded data removed]",
      "text/latex": [
       "$$- \\frac{x_{0}^{2}}{2} + \\frac{x_{1}^{2}}{2} = - \\frac{R \\rho^{2}}{30} - \\frac{\\rho x_{0}}{6} R - \\frac{\\rho x_{1}}{6} R - \\frac{R x_{0}^{2}}{3} - \\frac{x_{0} x_{1}}{3} R - \\frac{R x_{1}^{2}}{3}$$"
      ],
      "text/plain": [
       "    2     2        2                         2                 2\n",
       "  x₀    x₁      R⋅ρ    R⋅ρ⋅x₀   R⋅ρ⋅x₁   R⋅x₀    R⋅x₀⋅x₁   R⋅x₁ \n",
       "- ─── + ─── = - ──── - ────── - ────── - ───── - ─────── - ─────\n",
       "   2     2       30      6        6        3        3        3  "
      ]
     },
     "execution_count": 5,
     "metadata": {},
     "output_type": "execute_result"
    }
   ],
   "source": [
    "PowerBalance"
   ]
  },
  {
   "cell_type": "code",
   "execution_count": 6,
   "metadata": {
    "collapsed": true
   },
   "outputs": [],
   "source": [
    "x1_est = x0 * (1-R/2)/(1+R/2)"
   ]
  },
  {
   "cell_type": "code",
   "execution_count": 7,
   "metadata": {
    "collapsed": false
   },
   "outputs": [
    {
     "data": {
      "image/png": "[encoded data removed]",
      "text/latex": [
       "$$\\frac{x_{0} \\left(- \\frac{R}{2} + 1\\right)}{\\frac{R}{2} + 1}$$"
      ],
      "text/plain": [
       "   ⎛  R    ⎞\n",
       "x₀⋅⎜- ─ + 1⎟\n",
       "   ⎝  2    ⎠\n",
       "────────────\n",
       "   R        \n",
       "   ─ + 1    \n",
       "   2        "
      ]
     },
     "execution_count": 7,
     "metadata": {},
     "output_type": "execute_result"
    }
   ],
   "source": [
    "x1_est"
   ]
  },
  {
   "cell_type": "code",
   "execution_count": 8,
   "metadata": {
    "collapsed": false
   },
   "outputs": [],
   "source": [
    "sols = solve(PowerBalance.subs(x1, x1_est), rho)"
   ]
  },
  {
   "cell_type": "code",
   "execution_count": 9,
   "metadata": {
    "collapsed": false
   },
   "outputs": [
    {
     "data": {
      "image/png": "[encoded data removed]",
      "text/latex": [
       "$$\\left [ \\frac{1}{R + 2} \\left(- 10 x_{0} + \\sqrt{10} \\sqrt{x_{0}^{2} \\left(- R^{2} + 10\\right)}\\right), \\quad - \\frac{1}{R + 2} \\left(10 x_{0} + \\sqrt{10} \\sqrt{- x_{0}^{2} \\left(R^{2} - 10\\right)}\\right)\\right ]$$"
      ],
      "text/plain": [
       "⎡                   _________________   ⎛                  ________________⎞ ⎤\n",
       "⎢           ____   ╱   2 ⎛   2     ⎞    ⎜          ____   ╱    2 ⎛ 2     ⎞ ⎟ ⎥\n",
       "⎢-10⋅x₀ + ╲╱ 10 ⋅╲╱  x₀ ⋅⎝- R  + 10⎠   -⎝10⋅x₀ + ╲╱ 10 ⋅╲╱  -x₀ ⋅⎝R  - 10⎠ ⎠ ⎥\n",
       "⎢────────────────────────────────────, ──────────────────────────────────────⎥\n",
       "⎣               R + 2                                  R + 2                 ⎦"
      ]
     },
     "execution_count": 9,
     "metadata": {},
     "output_type": "execute_result"
    }
   ],
   "source": [
    "sols"
   ]
  },
  {
   "cell_type": "code",
   "execution_count": 17,
   "metadata": {
    "collapsed": false
   },
   "outputs": [
    {
     "data": {
      "image/png": "[encoded data removed]",
      "text/plain": [
       "<matplotlib.figure.Figure at 0x10a6187d0>"
      ]
     },
     "metadata": {},
     "output_type": "display_data"
    }
   ],
   "source": [
    "plot(sols[0].subs(x0, 1), sols[1].subs(x0, 1), (R, 0, 4), title=\"rho1, rho2\");"
   ]
  },
  {
   "cell_type": "code",
   "execution_count": 16,
   "metadata": {
    "collapsed": false
   },
   "outputs": [
    {
     "data": {
      "image/png": "[encoded data removed]",
      "text/plain": [
       "<matplotlib.figure.Figure at 0x10a105690>"
      ]
     },
     "metadata": {},
     "output_type": "display_data"
    }
   ],
   "source": [
    "plot(-R**2 + 10, (R, 0, 4.1), title=\"determinant\");"
   ]
  },
  {
   "cell_type": "code",
   "execution_count": 12,
   "metadata": {
    "collapsed": false
   },
   "outputs": [],
   "source": [
    "x_solved = x.subs(x1, x1_est).subs(rho, sols[0])\n",
    "dx_solved = dx.subs(x1, x1_est).subs(rho, sols[0])"
   ]
  },
  {
   "cell_type": "code",
   "execution_count": 13,
   "metadata": {
    "collapsed": false
   },
   "outputs": [
    {
     "name": "stdout",
     "output_type": "stream",
     "text": [
      "     ⎛  R    ⎞              ⎛                   _________________⎞            \n",
      "t⋅x₀⋅⎜- ─ + 1⎟              ⎜           ____   ╱   2 ⎛   2     ⎞ ⎟            \n",
      "     ⎝  2    ⎠   t⋅(-t + 1)⋅⎝-10⋅x₀ + ╲╱ 10 ⋅╲╱  x₀ ⋅⎝- R  + 10⎠ ⎠            \n",
      "────────────── + ───────────────────────────────────────────────── + x₀⋅(-t + \n",
      "    R                                  R + 2                                  \n",
      "    ─ + 1                                                                     \n",
      "    2                                                                         \n",
      "\n",
      "  \n",
      "  \n",
      "  \n",
      "1)\n",
      "  \n",
      "  \n",
      "  \n",
      "    ⎛                   _________________⎞      ⎛  R    ⎞                 ⎛   \n",
      "    ⎜           ____   ╱   2 ⎛   2     ⎞ ⎟   x₀⋅⎜- ─ + 1⎟                 ⎜   \n",
      "  t⋅⎝-10⋅x₀ + ╲╱ 10 ⋅╲╱  x₀ ⋅⎝- R  + 10⎠ ⎠      ⎝  2    ⎠        (-t + 1)⋅⎝-10\n",
      "- ──────────────────────────────────────── + ──────────── - x₀ + ─────────────\n",
      "                   R + 2                        R                             \n",
      "                                                ─ + 1                         \n",
      "                                                2                             \n",
      "\n",
      "                _________________⎞\n",
      "        ____   ╱   2 ⎛   2     ⎞ ⎟\n",
      "⋅x₀ + ╲╱ 10 ⋅╲╱  x₀ ⋅⎝- R  + 10⎠ ⎠\n",
      "──────────────────────────────────\n",
      "        R + 2                     \n",
      "                                  \n",
      "                                  \n"
     ]
    }
   ],
   "source": [
    "pprint(x_solved)\n",
    "pprint(dx_solved)"
   ]
  },
  {
   "cell_type": "code",
   "execution_count": 15,
   "metadata": {
    "collapsed": false
   },
   "outputs": [
    {
     "data": {
      "image/png": "[encoded data removed]",
      "text/plain": [
       "<matplotlib.figure.Figure at 0x10a0e5f90>"
      ]
     },
     "metadata": {},
     "output_type": "display_data"
    }
   ],
   "source": [
    "xR1 = x_solved.subs(x0,1).subs(R,1)\n",
    "xR2 = x_solved.subs(x0,1).subs(R,2)\n",
    "xR1_2 = x_solved.subs(x0,1).subs(R,0.5)\n",
    "plot(xR1, xR2, xR1_2,(t, 0, 1), title='x(t)', ylim=[0, 1]);"
   ]
  },
  {
   "cell_type": "code",
   "execution_count": null,
   "metadata": {
    "collapsed": true
   },
   "outputs": [],
   "source": []
  }
 ],
 "metadata": {
  "kernelspec": {
   "display_name": "Python 2",
   "language": "python",
   "name": "python2"
  },
  "language_info": {
   "codemirror_mode": {
    "name": "ipython",
    "version": 2
   },
   "file_extension": ".py",
   "mimetype": "text/x-python",
   "name": "python",
   "nbconvert_exporter": "python",
   "pygments_lexer": "ipython2",
   "version": "2.7.8"
  }
 },
 "nbformat": 4,
 "nbformat_minor": 0
}
